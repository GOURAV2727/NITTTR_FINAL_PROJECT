{
 "cells": [
  {
   "cell_type": "markdown",
   "metadata": {
    "id": "PS4k9c_oQAso"
   },
   "source": [
    "# **Credit card Fraud Detection**"
   ]
  },
  {
   "cell_type": "code",
   "execution_count": 25,
   "metadata": {
    "executionInfo": {
     "elapsed": 1207,
     "status": "ok",
     "timestamp": 1657125527544,
     "user": {
      "displayName": "Aryan Sharma",
      "userId": "18275102576093835771"
     },
     "user_tz": -330
    },
    "id": "gVYRpX76Nokt"
   },
   "outputs": [],
   "source": [
    "import pandas as pd\n",
    "import seaborn as sns\n",
    "import numpy as np\n",
    "import matplotlib.pyplot as plt"
   ]
  },
  {
   "cell_type": "code",
   "execution_count": 26,
   "metadata": {
    "colab": {
     "base_uri": "https://localhost:8080/",
     "height": 677
    },
    "executionInfo": {
     "elapsed": 2530,
     "status": "ok",
     "timestamp": 1657125533668,
     "user": {
      "displayName": "Aryan Sharma",
      "userId": "18275102576093835771"
     },
     "user_tz": -330
    },
    "id": "hrwNLWQoN9SY",
    "outputId": "e7071002-3379-4b82-b618-aea28c7247a3"
   },
   "outputs": [
    {
     "name": "stdout",
     "output_type": "stream",
     "text": [
      "<class 'pandas.core.frame.DataFrame'>\n",
      "RangeIndex: 1000000 entries, 0 to 999999\n",
      "Data columns (total 8 columns):\n",
      " #   Column                          Non-Null Count    Dtype  \n",
      "---  ------                          --------------    -----  \n",
      " 0   distance_from_home              1000000 non-null  float64\n",
      " 1   distance_from_last_transaction  1000000 non-null  float64\n",
      " 2   ratio_to_median_purchase_price  1000000 non-null  float64\n",
      " 3   repeat_retailer                 1000000 non-null  float64\n",
      " 4   used_chip                       1000000 non-null  float64\n",
      " 5   used_pin_number                 1000000 non-null  float64\n",
      " 6   online_order                    1000000 non-null  float64\n",
      " 7   fraud                           1000000 non-null  float64\n",
      "dtypes: float64(8)\n",
      "memory usage: 61.0 MB\n"
     ]
    }
   ],
   "source": [
    "df = pd.read_csv('card_transdata.csv')\n",
    "df.head(20)\n",
    "df.info()"
   ]
  },
  {
   "cell_type": "markdown",
   "metadata": {
    "id": "O2GlgC5eyYOT"
   },
   "source": [
    "## Detecting Outliers"
   ]
  },
  {
   "cell_type": "code",
   "execution_count": 27,
   "metadata": {
    "colab": {
     "base_uri": "https://localhost:8080/",
     "height": 297
    },
    "executionInfo": {
     "elapsed": 4472,
     "status": "ok",
     "timestamp": 1657125544828,
     "user": {
      "displayName": "Aryan Sharma",
      "userId": "18275102576093835771"
     },
     "user_tz": -330
    },
    "id": "h2LJNDsQQgLy",
    "outputId": "49607efb-ce48-434f-8059-480c90d8ff2f"
   },
   "outputs": [
    {
     "data": {
      "text/plain": [
       "<AxesSubplot:xlabel='distance_from_home', ylabel='distance_from_last_transaction'>"
      ]
     },
     "execution_count": 27,
     "metadata": {},
     "output_type": "execute_result"
    },
    {
     "data": {
      "image/png": "[encoded data removed]",
      "text/plain": [
       "<Figure size 432x288 with 1 Axes>"
      ]
     },
     "metadata": {
      "needs_background": "light"
     },
     "output_type": "display_data"
    }
   ],
   "source": [
    "sns.scatterplot(x = df.iloc[:, 0], y = df.iloc[:, 1], data = df)"
   ]
  },
  {
   "cell_type": "code",
   "execution_count": 28,
   "metadata": {
    "colab": {
     "base_uri": "https://localhost:8080/",
     "height": 297
    },
    "executionInfo": {
     "elapsed": 4185,
     "status": "ok",
     "timestamp": 1657125551687,
     "user": {
      "displayName": "Aryan Sharma",
      "userId": "18275102576093835771"
     },
     "user_tz": -330
    },
    "id": "fu1PjzOQrs11",
    "outputId": "2429e31d-84af-4e28-f166-d02c6774f032"
   },
   "outputs": [
    {
     "data": {
      "text/plain": [
       "<AxesSubplot:xlabel='repeat_retailer', ylabel='ratio_to_median_purchase_price'>"
      ]
     },
     "execution_count": 28,
     "metadata": {},
     "output_type": "execute_result"
    },
    {
     "data": {
      "image/png": "[encoded data removed]",
      "text/plain": [
       "<Figure size 432x288 with 1 Axes>"
      ]
     },
     "metadata": {
      "needs_background": "light"
     },
     "output_type": "display_data"
    }
   ],
   "source": [
    "sns.scatterplot(y = df.iloc[:, 2], x = df.iloc[:, 3], data = df)"
   ]
  },
  {
   "cell_type": "markdown",
   "metadata": {
    "id": "o7CF_EjPyj08"
   },
   "source": [
    "## Removing Outlier"
   ]
  },
  {
   "cell_type": "code",
   "execution_count": 29,
   "metadata": {
    "executionInfo": {
     "elapsed": 9,
     "status": "ok",
     "timestamp": 1657125551688,
     "user": {
      "displayName": "Aryan Sharma",
      "userId": "18275102576093835771"
     },
     "user_tz": -330
    },
    "id": "35wtxFE0Su76"
   },
   "outputs": [],
   "source": [
    "arr1 = np.where(df['distance_from_home']>4000)\n",
    "arr2 = np.where(df['distance_from_last_transaction']>4000)\n",
    "arr3 = np.where(df['ratio_to_median_purchase_price']>100)\n"
   ]
  },
  {
   "cell_type": "code",
   "execution_count": 30,
   "metadata": {
    "executionInfo": {
     "elapsed": 958,
     "status": "ok",
     "timestamp": 1657125554485,
     "user": {
      "displayName": "Aryan Sharma",
      "userId": "18275102576093835771"
     },
     "user_tz": -330
    },
    "id": "69PY-diUS2V2"
   },
   "outputs": [],
   "source": [
    "df.drop(arr1[0], inplace = True)\n",
    "df.drop(arr2[0], inplace = True)\n",
    "df.drop(arr3[0], inplace = True)"
   ]
  },
  {
   "cell_type": "code",
   "execution_count": 31,
   "metadata": {
    "colab": {
     "base_uri": "https://localhost:8080/"
    },
    "executionInfo": {
     "elapsed": 6,
     "status": "ok",
     "timestamp": 1657125556128,
     "user": {
      "displayName": "Aryan Sharma",
      "userId": "18275102576093835771"
     },
     "user_tz": -330
    },
    "id": "b6TekWg0rIWh",
    "outputId": "cd6e2308-26b8-4094-d3ee-c872240d75fc"
   },
   "outputs": [
    {
     "data": {
      "text/plain": [
       "(999980, 8)"
      ]
     },
     "execution_count": 31,
     "metadata": {},
     "output_type": "execute_result"
    }
   ],
   "source": [
    "df.shape"
   ]
  },
  {
   "cell_type": "code",
   "execution_count": 32,
   "metadata": {},
   "outputs": [
    {
     "data": {
      "image/png": "[encoded data removed]",
      "text/plain": [
       "<Figure size 720x720 with 2 Axes>"
      ]
     },
     "metadata": {
      "needs_background": "light"
     },
     "output_type": "display_data"
    }
   ],
   "source": [
    "features1=df.iloc[:,:-1]\n",
    "cor=features1.corr()\n",
    "plt.figure(figsize=(10,10))\n",
    "sns.heatmap(cor,annot=True)\n",
    "plt.show()"
   ]
  },
  {
   "cell_type": "markdown",
   "metadata": {
    "id": "LeC4DvWgzTlf"
   },
   "source": [
    "## Feature Scaling"
   ]
  },
  {
   "cell_type": "code",
   "execution_count": 33,
   "metadata": {
    "executionInfo": {
     "elapsed": 5,
     "status": "ok",
     "timestamp": 1657127050964,
     "user": {
      "displayName": "Aryan Sharma",
      "userId": "18275102576093835771"
     },
     "user_tz": -330
    },
    "id": "GMvsFKZ1y6CG"
   },
   "outputs": [],
   "source": [
    "features = df.iloc[:, :-1].values\n",
    "labels = df.iloc[:, -1].values"
   ]
  },
  {
   "cell_type": "code",
   "execution_count": 34,
   "metadata": {
    "executionInfo": {
     "elapsed": 528,
     "status": "ok",
     "timestamp": 1657127055813,
     "user": {
      "displayName": "Aryan Sharma",
      "userId": "18275102576093835771"
     },
     "user_tz": -330
    },
    "id": "kcM_RePzvsso"
   },
   "outputs": [],
   "source": [
    "from sklearn.preprocessing import StandardScaler\n",
    "sts = StandardScaler()\n",
    "features = sts.fit_transform(features)"
   ]
  },
  {
   "cell_type": "markdown",
   "metadata": {
    "id": "q14sCpV3zzCP"
   },
   "source": [
    "## Splitting the data"
   ]
  },
  {
   "cell_type": "code",
   "execution_count": 35,
   "metadata": {
    "executionInfo": {
     "elapsed": 610,
     "status": "ok",
     "timestamp": 1657127061542,
     "user": {
      "displayName": "Aryan Sharma",
      "userId": "18275102576093835771"
     },
     "user_tz": -330
    },
    "id": "7xoVPeATziZd"
   },
   "outputs": [],
   "source": [
    "from sklearn.model_selection import train_test_split\n",
    "features_train, features_test, labels_train, labels_test = train_test_split(features, labels, test_size = 0.3, random_state = 42)"
   ]
  },
  {
   "cell_type": "markdown",
   "metadata": {
    "id": "j6DNY2GG2EbU"
   },
   "source": [
    "## Model training\n",
    "\n",
    "### Logistic Regression"
   ]
  },
  {
   "cell_type": "code",
   "execution_count": 36,
   "metadata": {
    "colab": {
     "base_uri": "https://localhost:8080/"
    },
    "executionInfo": {
     "elapsed": 2853,
     "status": "ok",
     "timestamp": 1657127068621,
     "user": {
      "displayName": "Aryan Sharma",
      "userId": "18275102576093835771"
     },
     "user_tz": -330
    },
    "id": "FtUJXQ8I0Jlj",
    "outputId": "23a17edc-0704-439d-a16a-24b20b339f23"
   },
   "outputs": [
    {
     "data": {
      "text/plain": [
       "LogisticRegression()"
      ]
     },
     "execution_count": 36,
     "metadata": {},
     "output_type": "execute_result"
    }
   ],
   "source": [
    "from sklearn.linear_model import LogisticRegression\n",
    "model = LogisticRegression()\n",
    "model.fit(features_train, labels_train)"
   ]
  },
  {
   "cell_type": "code",
   "execution_count": 37,
   "metadata": {
    "colab": {
     "base_uri": "https://localhost:8080/"
    },
    "executionInfo": {
     "elapsed": 10,
     "status": "ok",
     "timestamp": 1657127068622,
     "user": {
      "displayName": "Aryan Sharma",
      "userId": "18275102576093835771"
     },
     "user_tz": -330
    },
    "id": "zPh4Ag3302f_",
    "outputId": "bc0c120e-a04d-458b-bcbf-fb78ff897d0e"
   },
   "outputs": [
    {
     "data": {
      "text/plain": [
       "0.9587258411834904"
      ]
     },
     "execution_count": 37,
     "metadata": {},
     "output_type": "execute_result"
    }
   ],
   "source": [
    "labels_pred = model.predict(features_test)\n",
    "\n",
    "from sklearn.metrics import accuracy_score\n",
    "accuracy_score(labels_test, labels_pred)*100"
   ]
  },
  {
   "cell_type": "markdown",
   "metadata": {
    "id": "Vn3-PYDMkhnv"
   },
   "source": [
    "### KNN Classification\n",
    "\n"
   ]
  },
  {
   "cell_type": "code",
   "execution_count": 38,
   "metadata": {
    "colab": {
     "base_uri": "https://localhost:8080/"
    },
    "executionInfo": {
     "elapsed": 42356,
     "status": "ok",
     "timestamp": 1657127115929,
     "user": {
      "displayName": "Aryan Sharma",
      "userId": "18275102576093835771"
     },
     "user_tz": -330
    },
    "id": "TEPWEmMC2uGn",
    "outputId": "522c6d74-b5cf-4138-85ee-d564b309c251"
   },
   "outputs": [
    {
     "data": {
      "text/plain": [
       "0.9986566397994626"
      ]
     },
     "execution_count": 38,
     "metadata": {},
     "output_type": "execute_result"
    }
   ],
   "source": [
    "from sklearn.neighbors import KNeighborsClassifier\n",
    "from sklearn.metrics import accuracy_score\n",
    "\n",
    "classifier = KNeighborsClassifier(n_neighbors=5)\n",
    "classifier.fit(features_train, labels_train)\n",
    "\n",
    "labels_pred = classifier.predict(features_test)\n",
    "\n",
    "accuracy_score(labels_test, labels_pred)*100"
   ]
  },
  {
   "cell_type": "markdown",
   "metadata": {},
   "source": [
    "### Random Forest Classifier"
   ]
  },
  {
   "cell_type": "code",
   "execution_count": 39,
   "metadata": {},
   "outputs": [
    {
     "data": {
      "text/plain": [
       "0.9999833329999933"
      ]
     },
     "execution_count": 39,
     "metadata": {},
     "output_type": "execute_result"
    }
   ],
   "source": [
    "from sklearn.ensemble import RandomForestClassifier, AdaBoostClassifier, GradientBoostingClassifier\n",
    "classifier = RandomForestClassifier()\n",
    "classifier.fit(features_train, labels_train)\n",
    "labels_pred = classifier.predict(features_test)\n",
    "accuracy_score(labels_test, labels_pred)*100"
   ]
  },
  {
   "cell_type": "markdown",
   "metadata": {},
   "source": [
    "### AdaBoostClassifier"
   ]
  },
  {
   "cell_type": "code",
   "execution_count": 40,
   "metadata": {},
   "outputs": [
    {
     "data": {
      "text/plain": [
       "0.9997866623999146"
      ]
     },
     "execution_count": 40,
     "metadata": {},
     "output_type": "execute_result"
    }
   ],
   "source": [
    "classifier = AdaBoostClassifier()\n",
    "classifier.fit(features_train, labels_train)\n",
    "labels_pred = classifier.predict(features_test)\n",
    "accuracy_score(labels_test, labels_pred)*100"
   ]
  },
  {
   "cell_type": "markdown",
   "metadata": {},
   "source": [
    "### GradientBoostingClassifier"
   ]
  },
  {
   "cell_type": "code",
   "execution_count": 41,
   "metadata": {},
   "outputs": [
    {
     "data": {
      "text/plain": [
       "0.9996533263998614"
      ]
     },
     "execution_count": 41,
     "metadata": {},
     "output_type": "execute_result"
    }
   ],
   "source": [
    "classifier = GradientBoostingClassifier()\n",
    "classifier.fit(features_train, labels_train)\n",
    "labels_pred = classifier.predict(features_test)\n",
    "accuracy_score(labels_test, labels_pred)*100"
   ]
  },
  {
   "cell_type": "code",
   "execution_count": 42,
   "metadata": {
    "colab": {
     "base_uri": "https://localhost:8080/"
    },
    "executionInfo": {
     "elapsed": 517,
     "status": "ok",
     "timestamp": 1657126564971,
     "user": {
      "displayName": "Aryan Sharma",
      "userId": "18275102576093835771"
     },
     "user_tz": -330
    },
    "id": "PDf5JjH8bxny",
    "outputId": "e5c38245-33ad-4a45-f83f-d5969b7ec1a3"
   },
   "outputs": [
    {
     "name": "stdout",
     "output_type": "stream",
     "text": [
      "              precision    recall  f1-score   support\n",
      "\n",
      "         0.0       1.00      1.00      1.00    273685\n",
      "         1.0       1.00      1.00      1.00     26309\n",
      "\n",
      "    accuracy                           1.00    299994\n",
      "   macro avg       1.00      1.00      1.00    299994\n",
      "weighted avg       1.00      1.00      1.00    299994\n",
      "\n",
      "0.9956669812170219\n",
      "[[273674     11]\n",
      " [    93  26216]]\n"
     ]
    }
   ],
   "source": [
    "from sklearn.metrics import confusion_matrix, r2_score, classification_report\n",
    "\n",
    "print(classification_report(labels_test, labels_pred))\n",
    "print(r2_score(labels_test, labels_pred))\n",
    "print(confusion_matrix(labels_test, labels_pred))"
   ]
  },
  {
   "cell_type": "code",
   "execution_count": 43,
   "metadata": {
    "id": "sBb7SWkEcK0M"
   },
   "outputs": [
    {
     "data": {
      "text/plain": [
       "Text(0.5, 1.0, 'Output Confusion Matrix')"
      ]
     },
     "execution_count": 43,
     "metadata": {},
     "output_type": "execute_result"
    },
    {
     "data": {
      "image/png": "[encoded data removed]",
      "text/plain": [
       "<Figure size 576x432 with 2 Axes>"
      ]
     },
     "metadata": {
      "needs_background": "light"
     },
     "output_type": "display_data"
    }
   ],
   "source": [
    "from sklearn.metrics import confusion_matrix\n",
    "cm=confusion_matrix(labels_pred,labels_test)\n",
    "plt.figure(figsize=(8,6))\n",
    "fg=sns.heatmap(cm,annot=True)\n",
    "figure=fg.get_figure()\n",
    "plt.xlabel('Predicted')\n",
    "plt.ylabel('Actual')\n",
    "plt.title(\"Output Confusion Matrix\")"
   ]
  },
  {
   "cell_type": "code",
   "execution_count": 44,
   "metadata": {},
   "outputs": [
    {
     "name": "stdout",
     "output_type": "stream",
     "text": [
      "[1. 0. 0. ... 0. 0. 1.]\n"
     ]
    }
   ],
   "source": [
    "print(labels_pred)"
   ]
  },
  {
   "cell_type": "code",
   "execution_count": 45,
   "metadata": {},
   "outputs": [
    {
     "ename": "NameError",
     "evalue": "name 'label_test' is not defined",
     "output_type": "error",
     "traceback": [
      "\u001b[1;31m---------------------------------------------------------------------------\u001b[0m",
      "\u001b[1;31mNameError\u001b[0m                                 Traceback (most recent call last)",
      "Input \u001b[1;32mIn [45]\u001b[0m, in \u001b[0;36m<cell line: 1>\u001b[1;34m()\u001b[0m\n\u001b[1;32m----> 1\u001b[0m \u001b[38;5;28mprint\u001b[39m(\u001b[43mlabel_test\u001b[49m)\n",
      "\u001b[1;31mNameError\u001b[0m: name 'label_test' is not defined"
     ]
    }
   ],
   "source": [
    "print(label_test)"
   ]
  },
  {
   "cell_type": "code",
   "execution_count": null,
   "metadata": {},
   "outputs": [],
   "source": []
  }
 ],
 "metadata": {
  "colab": {
   "authorship_tag": "ABX9TyMafa9AcDBTOnR3RwwJfIvL",
   "collapsed_sections": [],
   "mount_file_id": "15-OItgUOmFqvr-m1X1rDrFpZhjB-sU0C",
   "name": "Card_transdata.ipynb",
   "provenance": []
  },
  "kernelspec": {
   "display_name": "Python 3 (ipykernel)",
   "language": "python",
   "name": "python3"
  },
  "language_info": {
   "codemirror_mode": {
    "name": "ipython",
    "version": 3
   },
   "file_extension": ".py",
   "mimetype": "text/x-python",
   "name": "python",
   "nbconvert_exporter": "python",
   "pygments_lexer": "ipython3",
   "version": "3.9.12"
  }
 },
 "nbformat": 4,
 "nbformat_minor": 1
}
